{
 "cells": [
  {
   "cell_type": "code",
   "execution_count": 5,
   "metadata": {},
   "outputs": [
    {
     "name": "stdout",
     "output_type": "stream",
     "text": [
      "M*a*n*g*o*\n",
      "A*p*p*l*e*\n",
      "O*r*a*n*g*e*\n"
     ]
    }
   ],
   "source": [
    "fruits = [\"Mango\", \"Apple\", \"Orange\"]\n",
    "\n",
    "for fruit in fruits:\n",
    "    for char in fruit:\n",
    "        print(char, end=\"*\")\n",
    "    print()\n"
   ]
  },
  {
   "cell_type": "code",
   "execution_count": 6,
   "metadata": {},
   "outputs": [
    {
     "name": "stdout",
     "output_type": "stream",
     "text": [
      "Red Apple\n",
      "Red Veggies\n",
      "Red Shirt\n",
      "Green Apple\n",
      "Green Veggies\n",
      "Green Shirt\n",
      "Blue Apple\n",
      "Blue Veggies\n",
      "Blue Shirt\n"
     ]
    }
   ],
   "source": [
    "colors = [\"Red\", \"Green\", \"Blue\"]\n",
    "items = [\"Apple\", \"Veggies\", \"Shirt\"]\n",
    "\n",
    "for color in colors:\n",
    "    for item in items:\n",
    "        print(f\"{color} {item}\")\n"
   ]
  },
  {
   "cell_type": "code",
   "execution_count": 8,
   "metadata": {
    "scrolled": true
   },
   "outputs": [
    {
     "name": "stdout",
     "output_type": "stream",
     "text": [
      "* \n",
      "* * \n",
      "* * * \n",
      "* * * * \n",
      "* * * * * \n",
      "* * * * * * \n",
      "* * * * * * * \n",
      "* * * * * * * * \n",
      "* * * * * * * * * \n",
      "* * * * * * * * * * \n"
     ]
    }
   ],
   "source": [
    "for i in range(10):\n",
    "    for j in range(i+1):\n",
    "        print(\"*\", end=\" \")\n",
    "    print()"
   ]
  },
  {
   "cell_type": "code",
   "execution_count": 11,
   "metadata": {
    "scrolled": false
   },
   "outputs": [
    {
     "name": "stdout",
     "output_type": "stream",
     "text": [
      "\n",
      "* \n",
      "* * \n",
      "* * * \n",
      "* * * * \n",
      "* * * * * \n",
      "* * * * * * \n",
      "* * * * * * * \n",
      "* * * * * * * * \n",
      "* * * * * * * * * \n",
      "* * * * * * * * * * \n"
     ]
    }
   ],
   "source": [
    "i = 11\n",
    "while i > 0:\n",
    "    j = 11\n",
    "    while j > i:\n",
    "        print(\"*\", end=\" \")\n",
    "        j -= 1\n",
    "    i -= 1\n",
    "    print()"
   ]
  },
  {
   "cell_type": "code",
   "execution_count": 15,
   "metadata": {},
   "outputs": [
    {
     "data": {
      "text/plain": [
       "[50, 60, 70, 60, 70, 80, 70, 80, 90]"
      ]
     },
     "execution_count": 15,
     "metadata": {},
     "output_type": "execute_result"
    }
   ],
   "source": [
    "list1 = [10,20,30]\n",
    "list2 = [40,50,60]\n",
    "\n",
    "result = []\n",
    "\n",
    "\n",
    "for num in list1:\n",
    "    for n in list2:\n",
    "        result.append(num+n)\n",
    "        \n",
    "result"
   ]
  },
  {
   "cell_type": "code",
   "execution_count": 24,
   "metadata": {},
   "outputs": [
    {
     "name": "stdout",
     "output_type": "stream",
     "text": [
      "       0\n",
      "      000\n",
      "     00000\n",
      "    0000000\n",
      "   000000000\n",
      "  00000000000\n",
      " 0000000000000\n"
     ]
    }
   ],
   "source": [
    "#        0\n",
    "#       000\n",
    "#      00000\n",
    "#     0000000\n",
    "#    000000000\n",
    "#   00000000000\n",
    "#  0000000000000\n",
    "\n",
    "for i in range(0, 7):\n",
    "    for j in range(0, 7 - i):\n",
    "        print(\" \", end=\"\")\n",
    "    for k in range(0, 2*i+1):\n",
    "        print(\"0\", end=\"\")\n",
    "    print()"
   ]
  },
  {
   "cell_type": "code",
   "execution_count": null,
   "metadata": {},
   "outputs": [],
   "source": []
  }
 ],
 "metadata": {
  "kernelspec": {
   "display_name": "Python 3",
   "language": "python",
   "name": "python3"
  },
  "language_info": {
   "codemirror_mode": {
    "name": "ipython",
    "version": 3
   },
   "file_extension": ".py",
   "mimetype": "text/x-python",
   "name": "python",
   "nbconvert_exporter": "python",
   "pygments_lexer": "ipython3",
   "version": "3.8.10"
  }
 },
 "nbformat": 4,
 "nbformat_minor": 4
}
